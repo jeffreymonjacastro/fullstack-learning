{
 "cells": [
  {
   "cell_type": "code",
   "execution_count": null,
   "metadata": {
    "colab": {
     "base_uri": "https://localhost:8080/"
    },
    "executionInfo": {
     "elapsed": 3373,
     "status": "ok",
     "timestamp": 1730936654478,
     "user": {
      "displayName": "Jeffrey Antonio Monja Castro",
      "userId": "05223264563005357250"
     },
     "user_tz": 300
    },
    "id": "Ej0_0LvX2oDj",
    "outputId": "7bfc7f3f-5696-41f8-df92-c88666544691"
   },
   "outputs": [
    {
     "name": "stdout",
     "output_type": "stream",
     "text": [
      "Drive already mounted at /content/drive; to attempt to forcibly remount, call drive.mount(\"/content/drive\", force_remount=True).\n"
     ]
    }
   ],
   "source": [
    "from google.colab import drive\n",
    "drive.mount('/content/drive')"
   ]
  },
  {
   "cell_type": "code",
   "execution_count": 9,
   "metadata": {
    "executionInfo": {
     "elapsed": 520,
     "status": "ok",
     "timestamp": 1730941370849,
     "user": {
      "displayName": "Jeffrey Antonio Monja Castro",
      "userId": "05223264563005357250"
     },
     "user_tz": 300
    },
    "id": "IEDhxY7X2fX5"
   },
   "outputs": [],
   "source": [
    "import re\n",
    "import matplotlib.pyplot as plt"
   ]
  },
  {
   "cell_type": "markdown",
   "metadata": {},
   "source": [
    "# Recuento de mensajes totales"
   ]
  },
  {
   "cell_type": "markdown",
   "metadata": {},
   "source": [
    "Función para cargar el archivo del chat"
   ]
  },
  {
   "cell_type": "code",
   "execution_count": 10,
   "metadata": {
    "executionInfo": {
     "elapsed": 489,
     "status": "ok",
     "timestamp": 1730941373584,
     "user": {
      "displayName": "Jeffrey Antonio Monja Castro",
      "userId": "05223264563005357250"
     },
     "user_tz": 300
    },
    "id": "OiOs1Q-e2fYA"
   },
   "outputs": [],
   "source": [
    "def load_text(file_path):\n",
    "    with open(file_path, 'r', encoding='utf-8') as f:\n",
    "        text = f.read()\n",
    "    return text"
   ]
  },
  {
   "cell_type": "markdown",
   "metadata": {},
   "source": [
    "Función para procesar los mensajes del chat. Refactoriza los mensajes que tienen saltos de línea. Quita la fecha y hora de los mensajes"
   ]
  },
  {
   "cell_type": "code",
   "execution_count": 11,
   "metadata": {
    "executionInfo": {
     "elapsed": 502,
     "status": "ok",
     "timestamp": 1730941378963,
     "user": {
      "displayName": "Jeffrey Antonio Monja Castro",
      "userId": "05223264563005357250"
     },
     "user_tz": 300
    },
    "id": "2aZDPrLG2fYB"
   },
   "outputs": [],
   "source": [
    "def process_chat_lines(file_path):\n",
    "    messages = []\n",
    "\n",
    "    for file in file_path:\n",
    "        chat_text = load_text(file)\n",
    "        current_message = ''\n",
    "\n",
    "        chat_text = re.sub(r'[\\u202f\\u00a0]', ' ', chat_text)\n",
    "        chat_lines = chat_text.split('\\n')\n",
    "\n",
    "        pattern = r'\\d{1,2}/\\d{1,2}/\\d{2,4}, \\d{1,2}:\\d{2}\\s?[ap]\\.?\\s?m\\.? - '\n",
    "\n",
    "        for line in chat_lines:\n",
    "            if re.match(pattern, line):\n",
    "                if current_message:\n",
    "                    messages.append(current_message.strip())\n",
    "                current_message = re.sub(pattern, '', line)\n",
    "            else:\n",
    "                current_message += ' ' + line.strip()\n",
    "\n",
    "        if current_message:\n",
    "            messages.append(current_message.strip())\n",
    "\n",
    "    return messages\n"
   ]
  },
  {
   "cell_type": "markdown",
   "metadata": {},
   "source": [
    "Total de mensajes enviados por cada persona, considerando elementos multimedia"
   ]
  },
  {
   "cell_type": "code",
   "execution_count": 4,
   "metadata": {
    "executionInfo": {
     "elapsed": 3,
     "status": "ok",
     "timestamp": 1730941380169,
     "user": {
      "displayName": "Jeffrey Antonio Monja Castro",
      "userId": "05223264563005357250"
     },
     "user_tz": 300
    },
    "id": "H2buQCgu2fYC"
   },
   "outputs": [],
   "source": [
    "def total_count_of_messages(chat_lines):\n",
    "\tjson = {\n",
    "\t\t'Jeffrey': 0,\n",
    "\t\t'Romy': 0\n",
    "\t}\n",
    "\n",
    "\tfor line in chat_lines:\n",
    "\t\twords = line.split(' ')\n",
    "\t\tif words[0] == 'Jeffrey':\n",
    "\t\t\tjson['Jeffrey'] += 1\n",
    "\t\telif words[0] == 'ROMINOVICH' or words[0] == 'Rominovich':\n",
    "\t\t\tjson['Romy'] += 1\n",
    "\n",
    "\treturn json"
   ]
  },
  {
   "cell_type": "markdown",
   "metadata": {},
   "source": [
    "Total de mensajes de texto enviados por cada persona, sin considerar elementos multimedia"
   ]
  },
  {
   "cell_type": "code",
   "execution_count": 5,
   "metadata": {
    "executionInfo": {
     "elapsed": 2,
     "status": "ok",
     "timestamp": 1730941381756,
     "user": {
      "displayName": "Jeffrey Antonio Monja Castro",
      "userId": "05223264563005357250"
     },
     "user_tz": 300
    },
    "id": "5BtohWGo9EZ9"
   },
   "outputs": [],
   "source": [
    "def total_count_of_text_messages(chat_lines):\n",
    "\tjson = {\n",
    "\t\t'Jeffrey': 0,\n",
    "\t\t'Romy': 0,\n",
    "        'Multimedia': 0\n",
    "\t}\n",
    "\n",
    "\tfor line in chat_lines:\n",
    "\t\twords = line.split(':')\n",
    "\t\tif len(words) < 2:\n",
    "\t\t\tcontinue\n",
    "\t\telif words[1] == ' <Multimedia omitido>':\n",
    "\t\t    json['Multimedia'] += 1\n",
    "\t\telif words[0] == 'Jeffrey Monja':\n",
    "\t\t\tjson['Jeffrey'] += 1\n",
    "\t\telif words[0] == 'ROMINOVICH MI TODOPODEROSA 💜' or words[0] == 'Rominovich 💜':\n",
    "\t\t\tjson['Romy'] += 1\n",
    "\treturn json"
   ]
  },
  {
   "cell_type": "markdown",
   "metadata": {},
   "source": [
    "Gráfico circular de recuento de mensajes totales"
   ]
  },
  {
   "cell_type": "code",
   "execution_count": 6,
   "metadata": {
    "executionInfo": {
     "elapsed": 519,
     "status": "ok",
     "timestamp": 1730941862380,
     "user": {
      "displayName": "Jeffrey Antonio Monja Castro",
      "userId": "05223264563005357250"
     },
     "user_tz": 300
    },
    "id": "FbzI0ZCKHMvk"
   },
   "outputs": [],
   "source": [
    "def count_of_messages_circular_graph(datos):\n",
    "    names = list(datos.keys())\n",
    "    values = list(datos.values())\n",
    "\n",
    "    def func(pct, allvals):\n",
    "        absolute = int(pct/100.*sum(allvals))\n",
    "        return f\"{pct:.1f}%\\n{absolute:,} mensajes\"\n",
    "\n",
    "    colores_morados = ['#D4A5E6', '#9B59B6', '#6C3483']\n",
    "\n",
    "    plt.figure(figsize=(6, 6))\n",
    "    plt.pie(values,\n",
    "            labels=names,\n",
    "            autopct=lambda pct: func(pct, values),\n",
    "            startangle=140,\n",
    "            colors=colores_morados\n",
    "    )\n",
    "\n",
    "    plt.title('Distribución de Mensajes')\n",
    "    plt.axis('equal')\n",
    "\n",
    "    plt.show()\n"
   ]
  },
  {
   "cell_type": "markdown",
   "metadata": {},
   "source": [
    "Función principal"
   ]
  },
  {
   "cell_type": "code",
   "execution_count": 7,
   "metadata": {
    "colab": {
     "base_uri": "https://localhost:8080/"
    },
    "executionInfo": {
     "elapsed": 7954,
     "status": "ok",
     "timestamp": 1730941422864,
     "user": {
      "displayName": "Jeffrey Antonio Monja Castro",
      "userId": "05223264563005357250"
     },
     "user_tz": 300
    },
    "id": "5LVtssUbIxNS",
    "outputId": "09f8c439-a918-427d-dc04-feada544b482"
   },
   "outputs": [
    {
     "name": "stdout",
     "output_type": "stream",
     "text": [
      "{'Jeffrey': 282950, 'Romy': 543227}\n",
      "{'Jeffrey': 272050, 'Romy': 521073, 'Multimedia': 33054}\n"
     ]
    }
   ],
   "source": [
    "file_path = ['chat_mother_in_law.txt', 'chat_rominovich.txt']\n",
    "# file_path = 'test.txt'\n",
    "lines = process_chat_lines(file_path)\n",
    "total_messages = total_count_of_messages(lines)\n",
    "total_text_messages = total_count_of_text_messages(lines)\n",
    "print(total_messages)\n",
    "print(total_text_messages)"
   ]
  },
  {
   "cell_type": "code",
   "execution_count": 8,
   "metadata": {
    "colab": {
     "base_uri": "https://localhost:8080/",
     "height": 521
    },
    "executionInfo": {
     "elapsed": 778,
     "status": "ok",
     "timestamp": 1730941792414,
     "user": {
      "displayName": "Jeffrey Antonio Monja Castro",
      "userId": "05223264563005357250"
     },
     "user_tz": 300
    },
    "id": "n4XFFIWVJKcW",
    "outputId": "5a8bffa2-ea58-4280-e04f-56418830ade5"
   },
   "outputs": [
    {
     "data": {
      "image/png": "[encoded data removed]",
      "text/plain": [
       "<Figure size 600x600 with 1 Axes>"
      ]
     },
     "metadata": {},
     "output_type": "display_data"
    }
   ],
   "source": [
    "count_of_messages_circular_graph(total_messages)"
   ]
  },
  {
   "cell_type": "code",
   "execution_count": 9,
   "metadata": {
    "colab": {
     "base_uri": "https://localhost:8080/",
     "height": 521
    },
    "executionInfo": {
     "elapsed": 1172,
     "status": "ok",
     "timestamp": 1730941868378,
     "user": {
      "displayName": "Jeffrey Antonio Monja Castro",
      "userId": "05223264563005357250"
     },
     "user_tz": 300
    },
    "id": "PaVmnSdbJl87",
    "outputId": "6b3b46d6-727b-4925-f64e-ed2671b7a334"
   },
   "outputs": [
    {
     "data": {
      "image/png": "[encoded data removed]",
      "text/plain": [
       "<Figure size 600x600 with 1 Axes>"
      ]
     },
     "metadata": {},
     "output_type": "display_data"
    }
   ],
   "source": [
    "count_of_messages_circular_graph(total_text_messages)"
   ]
  },
  {
   "cell_type": "markdown",
   "metadata": {},
   "source": [
    "# Palabras más frecuentes"
   ]
  },
  {
   "cell_type": "code",
   "execution_count": 5,
   "metadata": {
    "colab": {
     "base_uri": "https://localhost:8080/"
    },
    "executionInfo": {
     "elapsed": 2344,
     "status": "ok",
     "timestamp": 1730943838819,
     "user": {
      "displayName": "Jeffrey Antonio Monja Castro",
      "userId": "05223264563005357250"
     },
     "user_tz": 300
    },
    "id": "fX9kZSXuOC10",
    "outputId": "2eec31ca-0bd0-4ab8-9f29-31de3c6230ea"
   },
   "outputs": [
    {
     "name": "stderr",
     "output_type": "stream",
     "text": [
      "[nltk_data] Downloading package stopwords to\n",
      "[nltk_data]     C:\\Users\\jeffr\\AppData\\Roaming\\nltk_data...\n",
      "[nltk_data]   Package stopwords is already up-to-date!\n"
     ]
    },
    {
     "data": {
      "text/plain": [
       "True"
      ]
     },
     "execution_count": 5,
     "metadata": {},
     "output_type": "execute_result"
    }
   ],
   "source": [
    "from nltk.corpus import stopwords\n",
    "import nltk\n",
    "nltk.download('stopwords')"
   ]
  },
  {
   "cell_type": "code",
   "execution_count": 36,
   "metadata": {
    "colab": {
     "base_uri": "https://localhost:8080/"
    },
    "executionInfo": {
     "elapsed": 1031,
     "status": "ok",
     "timestamp": 1730943874053,
     "user": {
      "displayName": "Jeffrey Antonio Monja Castro",
      "userId": "05223264563005357250"
     },
     "user_tz": 300
    },
    "id": "djIpm3bq2fX8",
    "outputId": "5d940c12-b26b-4f25-9bef-191a42708600"
   },
   "outputs": [
    {
     "name": "stdout",
     "output_type": "stream",
     "text": [
      "['a', 'actualmente', 'adelante', 'además', 'afirmó', 'agregó', 'ahora', 'ahí', 'al', 'algo', 'alguna', 'algunas', 'alguno', 'algunos', 'algún', 'alrededor', 'ambos', 'ampleamos', 'ante', 'anterior', 'antes', 'apenas', 'aproximadamente', 'aquel', 'aquellas', 'aquellos', 'aqui', 'aquí', 'arriba', 'aseguró', 'así', 'atras', 'aunque', 'ayer', 'añadió', 'aún', 'bajo', 'bastante', 'bien', 'buen', 'buena', 'buenas', 'bueno', 'buenos', 'cada', 'casi', 'cerca', 'cierta', 'ciertas', 'cierto', 'ciertos', 'cinco', 'comentó', 'como', 'con', 'conocer', 'conseguimos', 'conseguir', 'considera', 'consideró', 'consigo', 'consigue', 'consiguen', 'consigues', 'contra', 'cosas', 'creo', 'cual', 'cuales', 'cualquier', 'cuando', 'cuanto', 'cuatro', 'cuenta', 'cómo', 'da', 'dado', 'dan', 'dar', 'de', 'debe', 'deben', 'debido', 'decir', 'dejó', 'del', 'demás', 'dentro', 'desde', 'después', 'dice', 'dicen', 'dicho', 'dieron', 'diferente', 'diferentes', 'dijeron', 'dijo', 'dio', 'donde', 'dos', 'durante', 'e', 'ejemplo', 'el', 'ella', 'ellas', 'ello', 'ellos', 'embargo', 'empleais', 'emplean', 'emplear', 'empleas', 'empleo', 'en', 'encima', 'encuentra', 'entonces', 'entre', 'era', 'erais', 'eramos', 'eran', 'eras', 'eres', 'es', 'esa', 'esas', 'ese', 'eso', 'esos', 'esta', 'estaba', 'estabais', 'estaban', 'estabas', 'estad', 'estada', 'estadas', 'estado', 'estados', 'estais', 'estamos', 'estan', 'estando', 'estar', 'estaremos', 'estará', 'estarán', 'estarás', 'estaré', 'estaréis', 'estaría', 'estaríais', 'estaríamos', 'estarían', 'estarías', 'estas', 'este', 'estemos', 'esto', 'estos', 'estoy', 'estuve', 'estuviera', 'estuvierais', 'estuvieran', 'estuvieras', 'estuvieron', 'estuviese', 'estuvieseis', 'estuviesen', 'estuvieses', 'estuvimos', 'estuviste', 'estuvisteis', 'estuviéramos', 'estuviésemos', 'estuvo', 'está', 'estábamos', 'estáis', 'están', 'estás', 'esté', 'estéis', 'estén', 'estés', 'ex', 'existe', 'existen', 'explicó', 'expresó', 'fin', 'fue', 'fuera', 'fuerais', 'fueran', 'fueras', 'fueron', 'fuese', 'fueseis', 'fuesen', 'fueses', 'fui', 'fuimos', 'fuiste', 'fuisteis', 'fuéramos', 'fuésemos', 'gran', 'grandes', 'gueno', 'ha', 'haber', 'habida', 'habidas', 'habido', 'habidos', 'habiendo', 'habremos', 'habrá', 'habrán', 'habrás', 'habré', 'habréis', 'habría', 'habríais', 'habríamos', 'habrían', 'habrías', 'habéis', 'había', 'habíais', 'habíamos', 'habían', 'habías', 'hace', 'haceis', 'hacemos', 'hacen', 'hacer', 'hacerlo', 'haces', 'hacia', 'haciendo', 'hago', 'han', 'has', 'hasta', 'hay', 'haya', 'hayamos', 'hayan', 'hayas', 'hayáis', 'he', 'hecho', 'hemos', 'hicieron', 'hizo', 'hoy', 'hube', 'hubiera', 'hubierais', 'hubieran', 'hubieras', 'hubieron', 'hubiese', 'hubieseis', 'hubiesen', 'hubieses', 'hubimos', 'hubiste', 'hubisteis', 'hubiéramos', 'hubiésemos', 'hubo', 'igual', 'incluso', 'indicó', 'informó', 'intenta', 'intentais', 'intentamos', 'intentan', 'intentar', 'intentas', 'intento', 'ir', 'junto', 'la', 'lado', 'largo', 'las', 'le', 'les', 'llegó', 'lleva', 'llevar', 'lo', 'los', 'luego', 'lugar', 'manera', 'manifestó', 'mayor', 'me', 'mediante', 'mejor', 'mencionó', 'menos', 'mi', 'mientras', 'mio', 'mis', 'misma', 'mismas', 'mismo', 'mismos', 'modo', 'momento', 'mucha', 'muchas', 'mucho', 'muchos', 'muy', 'más', 'mí', 'mía', 'mías', 'mío', 'míos', 'nada', 'nadie', 'ni', 'ninguna', 'ningunas', 'ninguno', 'ningunos', 'ningún', 'no', 'nos', 'nosotras', 'nosotros', 'nuestra', 'nuestras', 'nuestro', 'nuestros', 'nueva', 'nuevas', 'nuevo', 'nuevos', 'nunca', 'o', 'ocho', 'os', 'otra', 'otras', 'otro', 'otros', 'para', 'parece', 'parte', 'partir', 'pasada', 'pasado', 'pero', 'pesar', 'poca', 'pocas', 'poco', 'pocos', 'podeis', 'podemos', 'poder', 'podria', 'podriais', 'podriamos', 'podrian', 'podrias', 'podrá', 'podrán', 'podría', 'podrían', 'poner', 'por', 'por qué', 'porque', 'posible', 'primer', 'primera', 'primero', 'primeros', 'principalmente', 'propia', 'propias', 'propio', 'propios', 'próximo', 'próximos', 'pudo', 'pueda', 'puede', 'pueden', 'puedo', 'pues', 'que', 'quedó', 'queremos', 'quien', 'quienes', 'quiere', 'quién', 'qué', 'realizado', 'realizar', 'realizó', 'respecto', 'sabe', 'sabeis', 'sabemos', 'saben', 'saber', 'sabes', 'se', 'sea', 'seamos', 'sean', 'seas', 'segunda', 'segundo', 'según', 'seis', 'ser', 'seremos', 'será', 'serán', 'serás', 'seré', 'seréis', 'sería', 'seríais', 'seríamos', 'serían', 'serías', 'seáis', 'señaló', 'si', 'sido', 'siempre', 'siendo', 'siete', 'sigue', 'siguiente', 'sin', 'sino', 'sobre', 'sois', 'sola', 'solamente', 'solas', 'solo', 'solos', 'somos', 'son', 'soy', 'su', 'sus', 'suya', 'suyas', 'suyo', 'suyos', 'sí', 'sólo', 'tal', 'también', 'tampoco', 'tan', 'tanto', 'te', 'tendremos', 'tendrá', 'tendrán', 'tendrás', 'tendré', 'tendréis', 'tendría', 'tendríais', 'tendríamos', 'tendrían', 'tendrías', 'tened', 'teneis', 'tenemos', 'tener', 'tenga', 'tengamos', 'tengan', 'tengas', 'tengo', 'tengáis', 'tenida', 'tenidas', 'tenido', 'tenidos', 'teniendo', 'tenéis', 'tenía', 'teníais', 'teníamos', 'tenían', 'tenías', 'tercera', 'ti', 'tiempo', 'tiene', 'tienen', 'tienes', 'toda', 'todas', 'todavía', 'todo', 'todos', 'total', 'trabaja', 'trabajais', 'trabajamos', 'trabajan', 'trabajar', 'trabajas', 'trabajo', 'tras', 'trata', 'través', 'tres', 'tu', 'tus', 'tuve', 'tuviera', 'tuvierais', 'tuvieran', 'tuvieras', 'tuvieron', 'tuviese', 'tuvieseis', 'tuviesen', 'tuvieses', 'tuvimos', 'tuviste', 'tuvisteis', 'tuviéramos', 'tuviésemos', 'tuvo', 'tuya', 'tuyas', 'tuyo', 'tuyos', 'tú', 'ultimo', 'un', 'una', 'unas', 'uno', 'unos', 'usa', 'usais', 'usamos', 'usan', 'usar', 'usas', 'uso', 'usted', 'va', 'vais', 'valor', 'vamos', 'van', 'varias', 'varios', 'vaya', 'veces', 'ver', 'verdad', 'verdadera', 'verdadero', 'vez', 'vosotras', 'vosotros', 'voy', 'vuestra', 'vuestras', 'vuestro', 'vuestros', 'y', 'ya', 'yo', 'él', 'éramos', 'ésta', 'éstas', 'éste', 'éstos', 'última', 'últimas', 'último', 'últimos', '<multimedia', 'omitido>', '?', '-', ':', ',', '.', '!', '¡', '¿', ';', '(', ')', '«', '»', '—', '“', '”', '…', '°', 'º', '``', 'sintiendo', 'sentido', 'sentida', 'sentidos', 'sentidas', 'siente', 'sentid']\n",
      "637\n"
     ]
    }
   ],
   "source": [
    "sw = stopwords.words('spanish')\n",
    "stoplist = load_text('stoplist.txt')\n",
    "stoplist = stoplist.split('\\n')\n",
    "stoplist += ['?', '-', ':', ',', '.', '!', '¡', '¿', ';', '(', ')', '«', '»', '—', '“', '”', '…', '°', 'º', '``']\n",
    "\n",
    "for word in sw:\n",
    "\tif word not in stoplist:\n",
    "\t\tstoplist.append(word)\n",
    "\n",
    "print(stoplist)\n",
    "print(len(stoplist))"
   ]
  },
  {
   "cell_type": "code",
   "execution_count": 7,
   "metadata": {
    "executionInfo": {
     "elapsed": 598,
     "status": "ok",
     "timestamp": 1730945991933,
     "user": {
      "displayName": "Jeffrey Antonio Monja Castro",
      "userId": "05223264563005357250"
     },
     "user_tz": 300
    },
    "id": "TGYSDjM3Zfr6"
   },
   "outputs": [],
   "source": [
    "def quitar_nombres(lista_texto):\n",
    "    pattern = r'^(Jeffrey Monja:|ROMINOVICH MI TODOPODEROSA 💜:|Rominovich 💜:)\\s*'\n",
    "\n",
    "    lineas_limpias = []\n",
    "\n",
    "    for linea in lista_texto:\n",
    "        if re.match(pattern, linea):\n",
    "            lineas_limpias.append(re.sub(pattern, '', linea))\n",
    "        #else:\n",
    "        #    # Si la línea no cumple el patrón, la imprimimos\n",
    "        #    print(\"Línea que no sigue el patrón:\", linea)\n",
    "\n",
    "    return lineas_limpias\n"
   ]
  },
  {
   "cell_type": "code",
   "execution_count": null,
   "metadata": {},
   "outputs": [],
   "source": [
    "def procesar_texto_optimizado(file_path, stoplist):\n",
    "    # Convertir stoplist en un conjunto para mejorar la velocidad de búsqueda\n",
    "    stop_words = set(stoplist)\n",
    "    \n",
    "    # Patrón para detectar líneas que siguen el patrón de mensajes con nombres\n",
    "    pattern = r'^(Jeffrey Monja:|ROMINOVICH MI TODOPODEROSA 💜:)\\s*'\n",
    "\n",
    "    # Cargar y limpiar el texto del archivo\n",
    "    chat_text = load_text(file_path)\n",
    "    chat_text = re.sub(r'[\\u202f\\u00a0]', ' ', chat_text)\n",
    "\n",
    "    # Procesar cada línea en una sola pasada\n",
    "    words = []\n",
    "    for line in chat_text.split('\\n'):\n",
    "        # Solo procesar las líneas que coincidan con el patrón\n",
    "        if re.match(pattern, line):\n",
    "            # Quitar el nombre al comienzo de la línea\n",
    "            line = re.sub(pattern, '', line)\n",
    "            # Filtrar y agregar palabras que no estén en stop_words\n",
    "            words.extend([word for word in line.split() if word.lower() not in stop_words])\n",
    "    \n",
    "    return words"
   ]
  },
  {
   "cell_type": "code",
   "execution_count": 37,
   "metadata": {
    "colab": {
     "background_save": true,
     "output_embedded_package_id": "1biAPXBpeYUjp0MoMtWdRuFANyPvfVN8A"
    },
    "id": "cFajVedUUooy",
    "outputId": "a08de09b-e426-466a-b8e7-deaa0b364770"
   },
   "outputs": [],
   "source": [
    "file_path = ['chat_mother_in_law.txt', 'chat_rominovich.txt']\n",
    "# file_path = 'test.txt'\n",
    "lines = process_chat_lines(file_path)\n",
    "lines = quitar_nombres(lines)\n",
    "stop_words = set(stoplist)\n"
   ]
  },
  {
   "cell_type": "code",
   "execution_count": 38,
   "metadata": {},
   "outputs": [],
   "source": [
    "def count_words(lines, stop_words):\n",
    "    word_count = {}\n",
    "    for line in lines:\n",
    "        line_words = line.split()\n",
    "        for word in line_words:\n",
    "            word = word.lower()\n",
    "            if word in stop_words or len(word) < 3:\n",
    "                continue\n",
    "            if word in word_count:\n",
    "                word_count[word] += 1\n",
    "            else:\n",
    "                word_count[word] = 1\n",
    "    return word_count\n",
    "\n",
    "\n",
    "words = count_words(lines, stop_words)\n",
    "\n",
    "top_words = {k: v for k, v in sorted(words.items(), key=lambda item: item[1], reverse=True)}"
   ]
  },
  {
   "cell_type": "code",
   "execution_count": 39,
   "metadata": {},
   "outputs": [
    {
     "name": "stdout",
     "output_type": "stream",
     "text": [
      "150096\n",
      "[('jsjs', 40237), ('jsjsjs', 18659), ('amor', 15951), ('sjsj', 15586), ('bebé', 15139), ('sjjs', 14764), ('🥺❤️', 14089), ('❤️✨', 13557), ('xdxd', 12050), ('quiero', 11824), ('jsjsj', 11554), ('amo', 9816), ('❤️🥺', 9741), ('xdd', 8894), ('amorrr', 6489), ('amorrrr', 5331), ('-.-', 5051), ('ayyy', 4814), ('ahhh', 4633), ('jsjsjsj', 4573), ('digo', 4413), ('jeff', 4386), ('mom', 4351), ('vas', 3596), ('mal', 3579), ('jsjsjsjs', 3503), ('dije', 3317), ('you', 3199), ('bueno,', 3187), ('mañana', 3166)]\n",
      "15951\n"
     ]
    }
   ],
   "source": [
    "print(len(words))\n",
    "\n",
    "n = 30\n",
    "primeros_items = list(top_words.items())[:n]\n",
    "print(primeros_items)\n",
    "\n",
    "print(words['amor'])"
   ]
  },
  {
   "cell_type": "code",
   "execution_count": null,
   "metadata": {
    "id": "ilviYtLa2fYE"
   },
   "outputs": [],
   "source": [
    "def word_count(chat_text):\n",
    "    # Eliminar las líneas que contienen información de fecha, hora y nombre del remitente\n",
    "    lines = re.sub(r'\\d{1,2}/\\d{1,2}/\\d{2,4}, \\d{1,2}:\\d{2}\\s?[ap]\\.?\\s?m\\.? - ', '', chat_text, flags=re.IGNORECASE)\n",
    "\n",
    "    # Tokenizar el texto en palabras, ignorando signos de puntuación\n",
    "    words = re.findall(r'\\b\\w+\\b', lines.lower())\n",
    "\n",
    "    print(words)\n",
    "\n",
    "    # Contar la frecuencia de cada palabra\n",
    "    word_counts = Counter(words)\n",
    "\n",
    "    return word_counts\n",
    "\n",
    "# Función principal\n",
    "def main():\n",
    "    file_path = 'test.txt'\n",
    "    chat_text = load_text(file_path)\n",
    "    word_counts = word_count(chat_text)\n",
    "\n",
    "    # Mostrar las 10 palabras más comunes\n",
    "    print(\"Las palabras más comunes son:\")\n",
    "    for word, count in word_counts.most_common(10):\n",
    "        print(f'{word}: {count}')\n",
    "\n",
    "if __name__ == '__main__':\n",
    "    main()\n"
   ]
  }
 ],
 "metadata": {
  "colab": {
   "name": "",
   "version": ""
  },
  "kernelspec": {
   "display_name": "Python 3",
   "language": "python",
   "name": "python3"
  },
  "language_info": {
   "codemirror_mode": {
    "name": "ipython",
    "version": 3
   },
   "file_extension": ".py",
   "mimetype": "text/x-python",
   "name": "python",
   "nbconvert_exporter": "python",
   "pygments_lexer": "ipython3",
   "version": "3.12.7"
  }
 },
 "nbformat": 4,
 "nbformat_minor": 0
}
